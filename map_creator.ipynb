{
 "cells": [
  {
   "cell_type": "code",
   "execution_count": 126,
   "metadata": {
    "collapsed": false
   },
   "outputs": [],
   "source": [
    "import pandas as pd\n",
    "from scipy.stats import mstats\n",
    "import folium\n",
    "import numpy as np\n",
    "\n",
    "readings_df = pd.read_csv('https://docs.google.com/spreadsheets/d/1WuwQwoloZsbl9vJoMUj7COMhiPVo8SncIU85dG_vjow/export?gid=0&format=csv',\n",
    "                          skiprows=[0,1,2])\n",
    "location_df = pd.read_csv('https://docs.google.com/spreadsheets/d/1WuwQwoloZsbl9vJoMUj7COMhiPVo8SncIU85dG_vjow/export?gid=1752938175&format=csv')\n",
    "location_df['station_id'] = location_df['LARWMP Station ID'].apply(lambda x: int(x[-3:]))\n",
    "m = folium.Map(location=[34.0407, -118.2468],\n",
    "                 zoom_start=12,\n",
    "                 tiles='Stamen Terrain')"
   ]
  },
  {
   "cell_type": "code",
   "execution_count": 87,
   "metadata": {
    "collapsed": false
   },
   "outputs": [],
   "source": [
    "SINGLE_SAMPLE_LIMT = 235\n",
    "GEO_MEAN_LIMIT = 126\n",
    "SAMPLE_RANGE = 35\n",
    "readings_df['date'] = pd.to_datetime(readings_df['DATE'])"
   ]
  },
  {
   "cell_type": "code",
   "execution_count": 88,
   "metadata": {
    "collapsed": false
   },
   "outputs": [],
   "source": [
    "cur_date = datetime.date.today()\n",
    "mask = (readings_df['date'] > cur_date - datetime.timedelta(days=SAMPLE_RANGE)) \\\n",
    "        & (readings_df['date'] <= cur_date)"
   ]
  },
  {
   "cell_type": "code",
   "execution_count": 89,
   "metadata": {
    "collapsed": true
   },
   "outputs": [],
   "source": [
    "readings = readings_df.loc[mask]\n"
   ]
  },
  {
   "cell_type": "code",
   "execution_count": 90,
   "metadata": {
    "collapsed": false
   },
   "outputs": [],
   "source": [
    "readings = readings.set_index('date')\n",
    "del(readings['DATE'])"
   ]
  },
  {
   "cell_type": "code",
   "execution_count": 92,
   "metadata": {
    "collapsed": false
   },
   "outputs": [
    {
     "data": {
      "text/html": [
       "<div>\n",
       "<table border=\"1\" class=\"dataframe\">\n",
       "  <thead>\n",
       "    <tr style=\"text-align: right;\">\n",
       "      <th></th>\n",
       "      <th>200</th>\n",
       "      <th>203</th>\n",
       "      <th>204</th>\n",
       "      <th>206</th>\n",
       "      <th>208</th>\n",
       "      <th>209</th>\n",
       "      <th>210</th>\n",
       "      <th>213</th>\n",
       "      <th>214</th>\n",
       "      <th>215</th>\n",
       "      <th>216</th>\n",
       "      <th>217</th>\n",
       "      <th>218</th>\n",
       "      <th>219</th>\n",
       "    </tr>\n",
       "    <tr>\n",
       "      <th>date</th>\n",
       "      <th></th>\n",
       "      <th></th>\n",
       "      <th></th>\n",
       "      <th></th>\n",
       "      <th></th>\n",
       "      <th></th>\n",
       "      <th></th>\n",
       "      <th></th>\n",
       "      <th></th>\n",
       "      <th></th>\n",
       "      <th></th>\n",
       "      <th></th>\n",
       "      <th></th>\n",
       "      <th></th>\n",
       "    </tr>\n",
       "  </thead>\n",
       "  <tbody>\n",
       "    <tr>\n",
       "      <th>2017-07-12</th>\n",
       "      <td>NaN</td>\n",
       "      <td>NaN</td>\n",
       "      <td>NaN</td>\n",
       "      <td>NaN</td>\n",
       "      <td>NaN</td>\n",
       "      <td>NaN</td>\n",
       "      <td>NaN</td>\n",
       "      <td>NaN</td>\n",
       "      <td>NaN</td>\n",
       "      <td>20</td>\n",
       "      <td>41</td>\n",
       "      <td>41</td>\n",
       "      <td>NaN</td>\n",
       "      <td>NaN</td>\n",
       "    </tr>\n",
       "    <tr>\n",
       "      <th>2017-07-15</th>\n",
       "      <td>97.0</td>\n",
       "      <td>10</td>\n",
       "      <td>350</td>\n",
       "      <td>63.0</td>\n",
       "      <td>145</td>\n",
       "      <td>NaN</td>\n",
       "      <td>52</td>\n",
       "      <td>41</td>\n",
       "      <td>332.0</td>\n",
       "      <td>NaN</td>\n",
       "      <td>NaN</td>\n",
       "      <td>NaN</td>\n",
       "      <td>238.0</td>\n",
       "      <td>63.0</td>\n",
       "    </tr>\n",
       "    <tr>\n",
       "      <th>2017-07-19</th>\n",
       "      <td>NaN</td>\n",
       "      <td>NaN</td>\n",
       "      <td>NaN</td>\n",
       "      <td>NaN</td>\n",
       "      <td>NaN</td>\n",
       "      <td>NaN</td>\n",
       "      <td>NaN</td>\n",
       "      <td>NaN</td>\n",
       "      <td>NaN</td>\n",
       "      <td>262</td>\n",
       "      <td>156</td>\n",
       "      <td>41</td>\n",
       "      <td>NaN</td>\n",
       "      <td>NaN</td>\n",
       "    </tr>\n",
       "    <tr>\n",
       "      <th>2017-07-25</th>\n",
       "      <td>NaN</td>\n",
       "      <td>NaN</td>\n",
       "      <td>NaN</td>\n",
       "      <td>NaN</td>\n",
       "      <td>NaN</td>\n",
       "      <td>NaN</td>\n",
       "      <td>NaN</td>\n",
       "      <td>NaN</td>\n",
       "      <td>NaN</td>\n",
       "      <td>336</td>\n",
       "      <td>160</td>\n",
       "      <td>63</td>\n",
       "      <td>NaN</td>\n",
       "      <td>NaN</td>\n",
       "    </tr>\n",
       "    <tr>\n",
       "      <th>2017-07-30</th>\n",
       "      <td>51.0</td>\n",
       "      <td>10</td>\n",
       "      <td>145</td>\n",
       "      <td>52.0</td>\n",
       "      <td>118</td>\n",
       "      <td>NaN</td>\n",
       "      <td>110</td>\n",
       "      <td>20</td>\n",
       "      <td>583.0</td>\n",
       "      <td>NaN</td>\n",
       "      <td>NaN</td>\n",
       "      <td>NaN</td>\n",
       "      <td>85.0</td>\n",
       "      <td>265.0</td>\n",
       "    </tr>\n",
       "    <tr>\n",
       "      <th>2017-08-01</th>\n",
       "      <td>NaN</td>\n",
       "      <td>NaN</td>\n",
       "      <td>NaN</td>\n",
       "      <td>NaN</td>\n",
       "      <td>NaN</td>\n",
       "      <td>NaN</td>\n",
       "      <td>NaN</td>\n",
       "      <td>NaN</td>\n",
       "      <td>NaN</td>\n",
       "      <td>51</td>\n",
       "      <td>146</td>\n",
       "      <td>41</td>\n",
       "      <td>NaN</td>\n",
       "      <td>NaN</td>\n",
       "    </tr>\n",
       "    <tr>\n",
       "      <th>2017-08-06</th>\n",
       "      <td>620.0</td>\n",
       "      <td>5</td>\n",
       "      <td>86</td>\n",
       "      <td>10.0</td>\n",
       "      <td>120</td>\n",
       "      <td>NaN</td>\n",
       "      <td>20</td>\n",
       "      <td>5</td>\n",
       "      <td>1090.0</td>\n",
       "      <td>NaN</td>\n",
       "      <td>NaN</td>\n",
       "      <td>NaN</td>\n",
       "      <td>272.0</td>\n",
       "      <td>231.0</td>\n",
       "    </tr>\n",
       "    <tr>\n",
       "      <th>2017-08-09</th>\n",
       "      <td>NaN</td>\n",
       "      <td>NaN</td>\n",
       "      <td>NaN</td>\n",
       "      <td>NaN</td>\n",
       "      <td>NaN</td>\n",
       "      <td>NaN</td>\n",
       "      <td>NaN</td>\n",
       "      <td>NaN</td>\n",
       "      <td>NaN</td>\n",
       "      <td>1010</td>\n",
       "      <td>1260</td>\n",
       "      <td>1320</td>\n",
       "      <td>NaN</td>\n",
       "      <td>NaN</td>\n",
       "    </tr>\n",
       "  </tbody>\n",
       "</table>\n",
       "</div>"
      ],
      "text/plain": [
       "              200  203  204   206  208  209  210  213     214   215   216  \\\n",
       "date                                                                        \n",
       "2017-07-12    NaN  NaN  NaN   NaN  NaN  NaN  NaN  NaN     NaN    20    41   \n",
       "2017-07-15   97.0   10  350  63.0  145  NaN   52   41   332.0   NaN   NaN   \n",
       "2017-07-19    NaN  NaN  NaN   NaN  NaN  NaN  NaN  NaN     NaN   262   156   \n",
       "2017-07-25    NaN  NaN  NaN   NaN  NaN  NaN  NaN  NaN     NaN   336   160   \n",
       "2017-07-30   51.0   10  145  52.0  118  NaN  110   20   583.0   NaN   NaN   \n",
       "2017-08-01    NaN  NaN  NaN   NaN  NaN  NaN  NaN  NaN     NaN    51   146   \n",
       "2017-08-06  620.0    5   86  10.0  120  NaN   20    5  1090.0   NaN   NaN   \n",
       "2017-08-09    NaN  NaN  NaN   NaN  NaN  NaN  NaN  NaN     NaN  1010  1260   \n",
       "\n",
       "             217    218    219  \n",
       "date                            \n",
       "2017-07-12    41    NaN    NaN  \n",
       "2017-07-15   NaN  238.0   63.0  \n",
       "2017-07-19    41    NaN    NaN  \n",
       "2017-07-25    63    NaN    NaN  \n",
       "2017-07-30   NaN   85.0  265.0  \n",
       "2017-08-01    41    NaN    NaN  \n",
       "2017-08-06   NaN  272.0  231.0  \n",
       "2017-08-09  1320    NaN    NaN  "
      ]
     },
     "execution_count": 92,
     "metadata": {},
     "output_type": "execute_result"
    }
   ],
   "source": [
    "readings.replace(to_replace='<10', value=5, inplace=True)\n",
    "readings.replace(to_replace='NS', value=np.nan)"
   ]
  },
  {
   "cell_type": "code",
   "execution_count": 153,
   "metadata": {
    "collapsed": false
   },
   "outputs": [],
   "source": [
    "output_color_data = {}\n",
    "def set_color(c):\n",
    "    num_readings = c.count()\n",
    "    if num_readings >= 5:\n",
    "        c = c.dropna()\n",
    "        c = pd.to_numeric(c)\n",
    "        geo_mean = sp.stats.mstats.gmean(c.values)\n",
    "        if geo_mean <= 127 or (c > 235).count() <= 2: \n",
    "            \"\"\"Green – Rolling Geo Mean using the last 5 sample results within 35 days is \n",
    "            <127 and <2 single sample results >235 using those same 5 sample results.\"\"\"\n",
    "            return 'green'\n",
    "        elif geo_mean >= 126 and geo_mean <= 160 or (c > 235).count() > 235:\n",
    "            \"\"\"Rolling Geo Mean is >126 and <160 and 2 or more single samples >235\"\"\"\n",
    "            return 'orange'\n",
    "        else:\n",
    "            return 'red'\n",
    "    else:\n",
    "        return 'lightgray'\n",
    "    "
   ]
  },
  {
   "cell_type": "code",
   "execution_count": 154,
   "metadata": {
    "collapsed": false
   },
   "outputs": [],
   "source": [
    "colors = readings.apply(set_color)"
   ]
  },
  {
   "cell_type": "code",
   "execution_count": 166,
   "metadata": {
    "collapsed": false
   },
   "outputs": [],
   "source": [
    "def loc_lookup_color(location): \n",
    "    try: \n",
    "        return colors[str(location[1]['station_id'])]\n",
    "    except IndexError: \n",
    "        return 'lightgray'"
   ]
  },
  {
   "cell_type": "code",
   "execution_count": 182,
   "metadata": {
    "collapsed": true
   },
   "outputs": [],
   "source": [
    "def gen_text_for_popup(location):\n",
    "    return location[1]['Station Description'] + '\\n' \\\n",
    "           + 'lat: ' + str(location[1]['Latitude']) + '\\n' \\\n",
    "           + 'long: ' + str(location[1]['Longitude']) + '\\n' \\\n",
    "           + 'Description: ' + location[1]['Station Description']"
   ]
  },
  {
   "cell_type": "code",
   "execution_count": 183,
   "metadata": {
    "collapsed": false
   },
   "outputs": [],
   "source": [
    "for location in location_df.iterrows():\n",
    "    folium.Marker([location[1]['Latitude'],location[1]['Longitude']], \n",
    "                   popup=gen_text_for_popup(location),\n",
    "                   icon = folium.Icon(color = loc_lookup_color(location))).add_to(m)"
   ]
  },
  {
   "cell_type": "code",
   "execution_count": 189,
   "metadata": {
    "collapsed": false
   },
   "outputs": [],
   "source": [
    "m.save('output.html')"
   ]
  },
  {
   "cell_type": "code",
   "execution_count": 190,
   "metadata": {
    "collapsed": true
   },
   "outputs": [],
   "source": [
    "m.save?"
   ]
  },
  {
   "cell_type": "code",
   "execution_count": null,
   "metadata": {
    "collapsed": true
   },
   "outputs": [],
   "source": []
  }
 ],
 "metadata": {
  "kernelspec": {
   "display_name": "Python 3",
   "language": "python",
   "name": "python3"
  },
  "language_info": {
   "codemirror_mode": {
    "name": "ipython",
    "version": 3
   },
   "file_extension": ".py",
   "mimetype": "text/x-python",
   "name": "python",
   "nbconvert_exporter": "python",
   "pygments_lexer": "ipython3",
   "version": "3.5.3"
  }
 },
 "nbformat": 4,
 "nbformat_minor": 2
}
