{
 "cells": [
  {
   "cell_type": "code",
   "execution_count": 25,
   "metadata": {},
   "outputs": [],
   "source": [
    "import pandas as pd\n",
    "from scipy.stats import mstats\n",
    "import folium\n",
    "import numpy as np\n",
    "import scipy as sp\n",
    "import datetime\n",
    "import boto3\n",
    "\n",
    "readings_df = pd.read_csv('https://docs.google.com/spreadsheets/d/1WuwQwoloZsbl9vJoMUj7COMhiPVo8SncIU85dG_vjow/export?gid=0&format=csv',\n",
    "                          skiprows=[0,1,2])\n",
    "location_df = pd.read_csv('https://docs.google.com/spreadsheets/d/1WuwQwoloZsbl9vJoMUj7COMhiPVo8SncIU85dG_vjow/export?gid=1752938175&format=csv')\n",
    "location_df['station_id'] = location_df['LARWMP Station ID'].apply(lambda x: int(x[-3:]))\n",
    "m = folium.Map(location=[34.0407, -118.2468],\n",
    "                 zoom_start=12,\n",
    "                 tiles='Stamen Terrain')"
   ]
  },
  {
   "cell_type": "code",
   "execution_count": 4,
   "metadata": {},
   "outputs": [],
   "source": [
    "SINGLE_SAMPLE_LIMT = 235\n",
    "GEO_MEAN_LIMIT = 126\n",
    "SAMPLE_RANGE = 35\n",
    "readings_df['date'] = pd.to_datetime(readings_df['DATE'])"
   ]
  },
  {
   "cell_type": "code",
   "execution_count": 5,
   "metadata": {},
   "outputs": [],
   "source": [
    "cur_date = datetime.date.today()\n",
    "mask = (readings_df['date'] > cur_date - datetime.timedelta(days=SAMPLE_RANGE)) \\\n",
    "        & (readings_df['date'] <= cur_date)"
   ]
  },
  {
   "cell_type": "code",
   "execution_count": 6,
   "metadata": {
    "collapsed": true
   },
   "outputs": [],
   "source": [
    "readings = readings_df.loc[mask]"
   ]
  },
  {
   "cell_type": "code",
   "execution_count": 7,
   "metadata": {},
   "outputs": [],
   "source": [
    "readings = readings.set_index('date')\n",
    "del(readings['DATE'])"
   ]
  },
  {
   "cell_type": "code",
   "execution_count": 11,
   "metadata": {},
   "outputs": [],
   "source": [
    "readings.replace(to_replace='<10', value=5, inplace=True)\n",
    "readings.replace(to_replace='NS', value=np.nan, inplace=True)"
   ]
  },
  {
   "cell_type": "code",
   "execution_count": 14,
   "metadata": {},
   "outputs": [],
   "source": [
    "output_color_data = {}\n",
    "def set_color(c):\n",
    "    num_readings = c.count()\n",
    "    if num_readings >= 5:\n",
    "        c = c.dropna()\n",
    "        if geo_mean <= 127 or (c > 235).count() <= 2: \n",
    "            \"\"\"Green – Rolling Geo Mean using the last 5 sample results within 35 days is \n",
    "            <127 and <2 single sample results >235 using those same 5 sample results.\"\"\"\n",
    "            return 'green'\n",
    "        elif geo_mean >= 126 and geo_mean <= 160 or (c > 235).count() > 235:\n",
    "            \"\"\"Rolling Geo Mean is >126 and <160 and 2 or more single samples >235\"\"\"\n",
    "            return 'orange'\n",
    "        else:\n",
    "            return 'red'\n",
    "    else:\n",
    "        return 'lightgray'\n",
    "    "
   ]
  },
  {
   "cell_type": "code",
   "execution_count": 15,
   "metadata": {},
   "outputs": [],
   "source": [
    "colors = readings.apply(set_color)"
   ]
  },
  {
   "cell_type": "code",
   "execution_count": 16,
   "metadata": {},
   "outputs": [],
   "source": [
    "def loc_lookup_color(location): \n",
    "    try: \n",
    "        return colors[str(location[1]['station_id'])]\n",
    "    except IndexError: \n",
    "        return 'lightgray'"
   ]
  },
  {
   "cell_type": "code",
   "execution_count": 17,
   "metadata": {
    "collapsed": true
   },
   "outputs": [],
   "source": [
    "def gen_text_for_popup(location):\n",
    "    return location[1]['Station Description'] + '\\n' \\\n",
    "           + 'lat: ' + str(location[1]['Latitude']) + '\\n' \\\n",
    "           + 'long: ' + str(location[1]['Longitude']) + '\\n' \\\n",
    "           + 'Description: ' + location[1]['Station Description']"
   ]
  },
  {
   "cell_type": "code",
   "execution_count": 18,
   "metadata": {},
   "outputs": [],
   "source": [
    "for location in location_df.iterrows():\n",
    "    folium.Marker([location[1]['Latitude'],location[1]['Longitude']], \n",
    "                   popup=gen_text_for_popup(location),\n",
    "                   icon = folium.Icon(color = loc_lookup_color(location))).add_to(m)"
   ]
  },
  {
   "cell_type": "code",
   "execution_count": 19,
   "metadata": {},
   "outputs": [],
   "source": [
    "m.save('output.html')"
   ]
  },
  {
   "cell_type": "code",
   "execution_count": 28,
   "metadata": {
    "collapsed": true
   },
   "outputs": [],
   "source": [
    "# Let's use Amazon S3\n",
    "s3 = boto3.resource('s3')"
   ]
  },
  {
   "cell_type": "code",
   "execution_count": 33,
   "metadata": {},
   "outputs": [
    {
     "data": {
      "text/plain": [
       "s3.Object(bucket_name='la-san-readings-map', key='output.html')"
      ]
     },
     "execution_count": 33,
     "metadata": {},
     "output_type": "execute_result"
    }
   ],
   "source": [
    "data = open('output.html', 'rb')\n",
    "s3.Bucket('la-san-readings-map').put_object(Key='output.html', Body=data)"
   ]
  },
  {
   "cell_type": "code",
   "execution_count": null,
   "metadata": {
    "collapsed": true
   },
   "outputs": [],
   "source": []
  }
 ],
 "metadata": {
  "kernelspec": {
   "display_name": "Python 3",
   "language": "python",
   "name": "python3"
  }
 },
 "nbformat": 4,
 "nbformat_minor": 2
}
